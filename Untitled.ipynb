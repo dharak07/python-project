{
 "cells": [
  {
   "cell_type": "code",
   "execution_count": 6,
   "id": "67687358-0947-426d-8391-97c860542824",
   "metadata": {},
   "outputs": [],
   "source": [
    "import imaplib\n",
    "import email"
   ]
  },
  {
   "cell_type": "code",
   "execution_count": null,
   "id": "6d3a4b7d-cf31-492a-b2fa-3e563a7df8f6",
   "metadata": {},
   "outputs": [],
   "source": [
    "imap_server = \"imap.gamil.com\"\n",
    "email_address = \"pateldharak007@gmail.com\"\n",
    "password = \"Godfather@2506#\"\n",
    "\n",
    "imap = imaplib.IMAP4_SSL(imap_server)\n",
    "imap.login(email_address, password)\n",
    "\n",
    "imap.select(\"Sent\")\n",
    "\n",
    "_, msgnums = imap.search(None, \"ALL\")\n",
    "\n",
    "for msgnums in msgnums[0].split():\n",
    "    _, data = imap.fetch(msgnums, \"(RFC822)\")\n",
    "\n",
    "    message = email.message_from_bytes(data[0][1])\n",
    "\n",
    "    print(f\"Message Number: {msgnum}\")\n",
    "    print(f\"From: {message.get('From')}\")\n",
    "    print(f\"To: {message.get('To')}\")\n",
    "    print(f\"BCC: {message.get('BCC')}\")\n",
    "    print(f\"Date: {message.get('Date')}\")\n",
    "    print(f\"Subject: {message.get('Subject')}\")\n",
    "\n",
    "    print(\"Content:\")\n",
    "    for part in message.walk():\n",
    "        if part.get_content_type() == \"text/plain\":\n",
    "            print(part.as_string())\n",
    "\n",
    "imap.close()"
   ]
  },
  {
   "cell_type": "code",
   "execution_count": null,
   "id": "19909b36-47d6-479c-a078-1ddee3764c92",
   "metadata": {},
   "outputs": [],
   "source": []
  }
 ],
 "metadata": {
  "kernelspec": {
   "display_name": "Python 3 (ipykernel)",
   "language": "python",
   "name": "python3"
  },
  "language_info": {
   "codemirror_mode": {
    "name": "ipython",
    "version": 3
   },
   "file_extension": ".py",
   "mimetype": "text/x-python",
   "name": "python",
   "nbconvert_exporter": "python",
   "pygments_lexer": "ipython3",
   "version": "3.12.5"
  }
 },
 "nbformat": 4,
 "nbformat_minor": 5
}
